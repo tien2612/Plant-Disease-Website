{
 "cells": [
  {
   "cell_type": "code",
   "execution_count": 1,
   "id": "2ae35540",
   "metadata": {},
   "outputs": [
    {
     "name": "stderr",
     "output_type": "stream",
     "text": [
      "2023-05-10 21:00:57.491509: I tensorflow/core/util/port.cc:110] oneDNN custom operations are on. You may see slightly different numerical results due to floating-point round-off errors from different computation orders. To turn them off, set the environment variable `TF_ENABLE_ONEDNN_OPTS=0`.\n",
      "2023-05-10 21:00:57.524802: I tensorflow/tsl/cuda/cudart_stub.cc:28] Could not find cuda drivers on your machine, GPU will not be used.\n",
      "2023-05-10 21:00:57.659121: I tensorflow/tsl/cuda/cudart_stub.cc:28] Could not find cuda drivers on your machine, GPU will not be used.\n",
      "2023-05-10 21:00:57.660535: I tensorflow/core/platform/cpu_feature_guard.cc:182] This TensorFlow binary is optimized to use available CPU instructions in performance-critical operations.\n",
      "To enable the following instructions: AVX2 AVX512F AVX512_VNNI FMA, in other operations, rebuild TensorFlow with the appropriate compiler flags.\n",
      "2023-05-10 21:00:58.702104: W tensorflow/compiler/tf2tensorrt/utils/py_utils.cc:38] TF-TRT Warning: Could not find TensorRT\n",
      "/home/vh/.local/lib/python3.11/site-packages/tensorflow_addons/utils/tfa_eol_msg.py:23: UserWarning: \n",
      "\n",
      "TensorFlow Addons (TFA) has ended development and introduction of new features.\n",
      "TFA has entered a minimal maintenance and release mode until a planned end of life in May 2024.\n",
      "Please modify downstream libraries to take dependencies from other repositories in our TensorFlow community (e.g. Keras, Keras-CV, and Keras-NLP). \n",
      "\n",
      "For more information see: https://github.com/tensorflow/addons/issues/2807 \n",
      "\n",
      "  warnings.warn(\n"
     ]
    }
   ],
   "source": [
    "import pandas as pd\n",
    "import numpy as np\n",
    "import tensorflow as tf\n",
    "import keras\n",
    "import PIL\n",
    "import cv2\n",
    "import matplotlib.pyplot as plt\n",
    "import seaborn as sns\n",
    "import os\n",
    "import random\n",
    "from tqdm import tqdm\n",
    "import tensorflow_addons as tfa\n",
    "import random\n",
    "from sklearn.preprocessing import MultiLabelBinarizer\n",
    "import firebase_admin\n",
    "from firebase_admin import credentials\n",
    "from firebase_admin import firestore\n",
    "from firebase import firebase\n",
    "import matplotlib.pyplot as plt\n",
    "import matplotlib.image as mpimg\n",
    "import urllib\n",
    "import urllib.request as ur\n",
    "import sys"
   ]
  },
  {
   "cell_type": "code",
   "execution_count": null,
   "id": "36d53950",
   "metadata": {},
   "outputs": [
    {
     "name": "stderr",
     "output_type": "stream",
     "text": [
      "2023-05-10 21:02:41.754187: E tensorflow/compiler/xla/stream_executor/cuda/cuda_driver.cc:266] failed call to cuInit: CUDA_ERROR_NO_DEVICE: no CUDA-capable device is detected\n"
     ]
    }
   ],
   "source": [
    "model = tf.keras.models.load_model('/home/vh/Documents/Plant-Disease-Website/model/saved_model', compile=False)"
   ]
  },
  {
   "cell_type": "code",
   "execution_count": null,
   "id": "109298fe",
   "metadata": {},
   "outputs": [],
   "source": [
    "# cred = credentials.Certificate('/home/vh/Documents/serviceAccount.json')\n",
    "\n",
    "# app = firebase_admin.initialize_app(cred)"
   ]
  },
  {
   "cell_type": "code",
   "execution_count": null,
   "id": "166bb33e",
   "metadata": {},
   "outputs": [],
   "source": [
    "db = firestore.client()\n",
    "\n",
    "images_ref = db.collection(u'images')\n",
    "\n",
    "query = images_ref.where(u'status', u'==', u'')\n",
    "\n",
    "docs = query.stream()\n",
    "\n",
    "urls = []\n",
    "\n",
    "for doc in docs:\n",
    "    doc_dict = doc.to_dict()\n",
    "\n",
    "    imageUrl = doc_dict['imageUrl']\n",
    "    \n",
    "    urls.append(imageUrl)\n",
    "\n",
    "print(\"Num of images: \",len(urls))"
   ]
  },
  {
   "cell_type": "code",
   "execution_count": null,
   "id": "91061143",
   "metadata": {},
   "outputs": [],
   "source": [
    "images = []\n",
    "for i in range(0,len(urls)):\n",
    "    image = \"image_\" + str(i) +\".jpg\"\n",
    "    images.append(image)\n",
    "    urllib.request.urlretrieve(urls[i], image)\n",
    "    with PIL.Image.open(image) as img:\n",
    "        img = img.resize((256,256))\n",
    "        img.save(f'./{\"predict_image\"}/{image}')"
   ]
  },
  {
   "cell_type": "code",
   "execution_count": null,
   "id": "5ab60496",
   "metadata": {},
   "outputs": [],
   "source": [
    "print(images)\n",
    "test = pd.DataFrame({'image':images})\n",
    "print(test)"
   ]
  },
  {
   "cell_type": "code",
   "execution_count": null,
   "id": "08952234",
   "metadata": {},
   "outputs": [],
   "source": [
    "datagen = keras.preprocessing.image.ImageDataGenerator(rescale=1/255.0,\n",
    "                                                        preprocessing_function=None,\n",
    "                                                        data_format=None,\n",
    "                                                    )\n",
    "test_data = datagen.flow_from_dataframe(\n",
    "    test,\n",
    "    directory = '.',\n",
    "    x_col=\"image\",\n",
    "    y_col= None,\n",
    "    color_mode=\"rgb\",\n",
    "    target_size = (256,256),\n",
    "    classes=None,\n",
    "    class_mode=None,\n",
    "    batch_size=32,\n",
    "    shuffle=False,\n",
    "    seed=40,\n",
    ")\n",
    "\n",
    "print(test_data)\n",
    "\n",
    "preds = model.predict(test_data)\n",
    "print(preds)\n",
    "preds = preds.tolist()\n",
    "\n",
    "indices = []\n",
    "for pred in preds:\n",
    "    temp = []\n",
    "    for category in pred:\n",
    "        if category>=0.3:\n",
    "            temp.append(pred.index(category))\n",
    "    if temp!=[]:\n",
    "        indices.append(temp)\n",
    "    else:\n",
    "        temp.append(np.argmax(pred))\n",
    "        indices.append(temp)\n",
    "    \n",
    "print(indices)"
   ]
  },
  {
   "cell_type": "code",
   "execution_count": null,
   "id": "a1cc5907",
   "metadata": {},
   "outputs": [],
   "source": [
    "labels = {'complex': 0, 'frog_eye_leaf_spot': 1, 'healthy': 2, 'powdery_mildew': 3, 'rust': 4, 'scab': 5}\n",
    "labels = dict((v,k) for k,v in labels.items())\n",
    "print(labels)\n",
    "\n",
    "testlabels = []\n",
    "temp = []\n",
    "for i in indices:\n",
    "    i = [i[0]]\n",
    "    temp.append(i)\n",
    "indices = temp\n",
    "\n",
    "for image in indices:\n",
    "    temp = []\n",
    "    for i in image:\n",
    "        temp.append(str(labels[i]))\n",
    "    testlabels.append(' '.join(temp))\n",
    "\n",
    "print(testlabels)"
   ]
  },
  {
   "cell_type": "code",
   "execution_count": null,
   "id": "451cf264",
   "metadata": {},
   "outputs": [],
   "source": [
    "# cred = credentials.Certificate('/home/vh/Documents/serviceAccount.json')\n",
    "\n",
    "# firebase_admin.initialize_app(cred)\n",
    "\n",
    "# Initialize Firestore client\n",
    "\n",
    "db = firestore.client()\n",
    "\n",
    "firebase = firebase.FirebaseApplication('https://plant-pests-detection-default-rtdb.firebaseio.com/', None)\n",
    "\n",
    "images_ref = db.collection(u'images')\n",
    "\n",
    "# Create a query to filter documents by status equal to an empty string\n",
    "query = images_ref.where(u'status', u'==', u'')\n",
    "\n",
    "# Get the documents that match the query\n",
    "docs = query.stream()\n",
    "\n",
    "index = 0\n",
    "\n",
    "for doc in docs:\n",
    "    result = testlabels[index]\n",
    "    \n",
    "    detect_ref = db.collection(u'images').document(doc.id)\n",
    "\n",
    "    detect_ref.update({u'status': result})\n",
    "\n",
    "    firebase.put('status', 'status', result)\n",
    "    \n",
    "    index += 1"
   ]
  }
 ],
 "metadata": {
  "kernelspec": {
   "display_name": "Python 3 (ipykernel)",
   "language": "python",
   "name": "python3"
  },
  "language_info": {
   "codemirror_mode": {
    "name": "ipython",
    "version": 3
   },
   "file_extension": ".py",
   "mimetype": "text/x-python",
   "name": "python",
   "nbconvert_exporter": "python",
   "pygments_lexer": "ipython3",
   "version": "3.11.2"
  }
 },
 "nbformat": 4,
 "nbformat_minor": 5
}
