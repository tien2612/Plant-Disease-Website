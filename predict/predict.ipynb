{
 "cells": [
  {
   "cell_type": "code",
   "execution_count": 16,
   "id": "2ae35540",
   "metadata": {},
   "outputs": [],
   "source": [
    "import pandas as pd\n",
    "import numpy as np\n",
    "import tensorflow as tf\n",
    "import keras\n",
    "import PIL\n",
    "import cv2\n",
    "import matplotlib.pyplot as plt\n",
    "import seaborn as sns\n",
    "import os\n",
    "import random\n",
    "from tqdm import tqdm\n",
    "import tensorflow_addons as tfa\n",
    "import random\n",
    "from sklearn.preprocessing import MultiLabelBinarizer\n",
    "import firebase_admin\n",
    "from firebase_admin import credentials\n",
    "from firebase_admin import firestore\n",
    "from firebase import firebase\n",
    "import matplotlib.pyplot as plt\n",
    "import matplotlib.image as mpimg\n",
    "import urllib\n",
    "import urllib.request as ur\n",
    "import sys"
   ]
  },
  {
   "cell_type": "code",
   "execution_count": 7,
   "id": "36d53950",
   "metadata": {},
   "outputs": [
    {
     "name": "stderr",
     "output_type": "stream",
     "text": [
      "2023-05-10 21:23:28.406486: E tensorflow/compiler/xla/stream_executor/cuda/cuda_driver.cc:266] failed call to cuInit: CUDA_ERROR_NO_DEVICE: no CUDA-capable device is detected\n"
     ]
    }
   ],
   "source": [
    "model = tf.keras.models.load_model('/home/vh/Documents/Plant-Disease-Website/model/saved_model', compile=False)"
   ]
  },
  {
   "cell_type": "code",
   "execution_count": 9,
   "id": "109298fe",
   "metadata": {},
   "outputs": [],
   "source": [
    "# cred = credentials.Certificate('/home/vh/Documents/serviceAccount.json')\n",
    "\n",
    "# app = firebase_admin.initialize_app(cred)"
   ]
  },
  {
   "cell_type": "code",
   "execution_count": 17,
   "id": "166bb33e",
   "metadata": {},
   "outputs": [
    {
     "name": "stdout",
     "output_type": "stream",
     "text": [
      "https://firebasestorage.googleapis.com/v0/b/plant-pests-detection.appspot.com/o/images%2Fphoto5941516755127936231.jpg?alt=media&token=ce6303d3-1aa9-4aef-a73e-3e1a26c84e34\n",
      "Num of images:  1\n"
     ]
    }
   ],
   "source": [
    "db = firestore.client()\n",
    "\n",
    "images_ref = db.collection(u'images')\n",
    "\n",
    "query = images_ref.where(u'status', u'==', u'')\n",
    "\n",
    "docs = query.stream()\n",
    "\n",
    "urls = []\n",
    "\n",
    "for doc in docs:\n",
    "    doc_dict = doc.to_dict()\n",
    "\n",
    "    imageUrl = doc_dict['imageUrl']\n",
    "    \n",
    "    print(imageUrl)\n",
    "    \n",
    "    urls.append(imageUrl)\n",
    "\n",
    "print(\"Num of images: \",len(urls))"
   ]
  },
  {
   "cell_type": "code",
   "execution_count": 18,
   "id": "91061143",
   "metadata": {},
   "outputs": [],
   "source": [
    "images = []\n",
    "for i in range(0,len(urls)):\n",
    "    image = \"image_\" + str(i) +\".jpg\"\n",
    "    images.append(image)\n",
    "    urllib.request.urlretrieve(urls[i], image)\n",
    "    with PIL.Image.open(image) as img:\n",
    "        img = img.resize((256,256))\n",
    "        img.save(f'./{image}')"
   ]
  },
  {
   "cell_type": "code",
   "execution_count": 19,
   "id": "5ab60496",
   "metadata": {},
   "outputs": [
    {
     "name": "stdout",
     "output_type": "stream",
     "text": [
      "['image_0.jpg']\n",
      "         image\n",
      "0  image_0.jpg\n"
     ]
    }
   ],
   "source": [
    "print(images)\n",
    "test = pd.DataFrame({'image':images})\n",
    "print(test)"
   ]
  },
  {
   "cell_type": "code",
   "execution_count": 20,
   "id": "08952234",
   "metadata": {},
   "outputs": [
    {
     "name": "stdout",
     "output_type": "stream",
     "text": [
      "Found 1 validated image filenames.\n",
      "<keras.preprocessing.image.DataFrameIterator object at 0x7fb3e6ebc950>\n",
      "1/1 [==============================] - 0s 198ms/step\n",
      "[[0.02997818 0.31402257 0.00727026 0.00333117 0.45867714 0.08087564]]\n",
      "[[1, 4]]\n"
     ]
    },
    {
     "name": "stderr",
     "output_type": "stream",
     "text": [
      "2023-05-10 21:29:51.628920: I tensorflow/core/common_runtime/executor.cc:1197] [/device:CPU:0] (DEBUG INFO) Executor start aborting (this does not indicate an error and you can ignore this message): INVALID_ARGUMENT: You must feed a value for placeholder tensor 'Placeholder/_0' with dtype int32\n",
      "\t [[{{node Placeholder/_0}}]]\n"
     ]
    }
   ],
   "source": [
    "datagen = keras.preprocessing.image.ImageDataGenerator(rescale=1/255.0,\n",
    "                                                        preprocessing_function=None,\n",
    "                                                        data_format=None,\n",
    "                                                    )\n",
    "test_data = datagen.flow_from_dataframe(\n",
    "    test,\n",
    "    directory = '.',\n",
    "    x_col=\"image\",\n",
    "    y_col= None,\n",
    "    color_mode=\"rgb\",\n",
    "    target_size = (256,256),\n",
    "    classes=None,\n",
    "    class_mode=None,\n",
    "    batch_size=32,\n",
    "    shuffle=False,\n",
    "    seed=40,\n",
    ")\n",
    "\n",
    "print(test_data)\n",
    "\n",
    "preds = model.predict(test_data)\n",
    "print(preds)\n",
    "preds = preds.tolist()\n",
    "\n",
    "indices = []\n",
    "for pred in preds:\n",
    "    temp = []\n",
    "    for category in pred:\n",
    "        if category>=0.3:\n",
    "            temp.append(pred.index(category))\n",
    "    if temp!=[]:\n",
    "        indices.append(temp)\n",
    "    else:\n",
    "        temp.append(np.argmax(pred))\n",
    "        indices.append(temp)\n",
    "    \n",
    "print(indices)"
   ]
  },
  {
   "cell_type": "code",
   "execution_count": 21,
   "id": "a1cc5907",
   "metadata": {},
   "outputs": [
    {
     "name": "stdout",
     "output_type": "stream",
     "text": [
      "{0: 'complex', 1: 'frog_eye_leaf_spot', 2: 'healthy', 3: 'powdery_mildew', 4: 'rust', 5: 'scab'}\n",
      "['frog_eye_leaf_spot']\n"
     ]
    }
   ],
   "source": [
    "labels = {'complex': 0, 'frog_eye_leaf_spot': 1, 'healthy': 2, 'powdery_mildew': 3, 'rust': 4, 'scab': 5}\n",
    "labels = dict((v,k) for k,v in labels.items())\n",
    "print(labels)\n",
    "\n",
    "testlabels = []\n",
    "temp = []\n",
    "for i in indices:\n",
    "    i = [i[0]]\n",
    "    temp.append(i)\n",
    "indices = temp\n",
    "\n",
    "for image in indices:\n",
    "    temp = []\n",
    "    for i in image:\n",
    "        temp.append(str(labels[i]))\n",
    "    testlabels.append(' '.join(temp))\n",
    "\n",
    "print(testlabels)"
   ]
  },
  {
   "cell_type": "code",
   "execution_count": 22,
   "id": "451cf264",
   "metadata": {},
   "outputs": [
    {
     "name": "stderr",
     "output_type": "stream",
     "text": [
      "/home/vh/.local/lib/python3.11/site-packages/google/cloud/firestore_v1/base_collection.py:290: UserWarning: Detected filter using positional arguments. Prefer using the 'filter' keyword argument instead.\n",
      "  return query.where(field_path, op_string, value)\n"
     ]
    }
   ],
   "source": [
    "# cred = credentials.Certificate('/home/vh/Documents/serviceAccount.json')\n",
    "\n",
    "# firebase_admin.initialize_app(cred)\n",
    "\n",
    "# Initialize Firestore client\n",
    "\n",
    "db = firestore.client()\n",
    "\n",
    "firebase = firebase.FirebaseApplication('https://plant-pests-detection-default-rtdb.firebaseio.com/', None)\n",
    "\n",
    "images_ref = db.collection(u'images')\n",
    "\n",
    "# Create a query to filter documents by status equal to an empty string\n",
    "query = images_ref.where(u'status', u'==', u'')\n",
    "\n",
    "# Get the documents that match the query\n",
    "docs = query.stream()\n",
    "\n",
    "index = 0\n",
    "\n",
    "for doc in docs:\n",
    "    result = testlabels[index]\n",
    "    \n",
    "    detect_ref = db.collection(u'images').document(doc.id)\n",
    "\n",
    "    detect_ref.update({u'status': result})\n",
    "\n",
    "    firebase.put('status', 'status', result)\n",
    "    \n",
    "    index += 1"
   ]
  }
 ],
 "metadata": {
  "kernelspec": {
   "display_name": "Python 3 (ipykernel)",
   "language": "python",
   "name": "python3"
  },
  "language_info": {
   "codemirror_mode": {
    "name": "ipython",
    "version": 3
   },
   "file_extension": ".py",
   "mimetype": "text/x-python",
   "name": "python",
   "nbconvert_exporter": "python",
   "pygments_lexer": "ipython3",
   "version": "3.11.2"
  }
 },
 "nbformat": 4,
 "nbformat_minor": 5
}
