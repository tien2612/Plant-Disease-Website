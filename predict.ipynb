{
 "cells": [
  {
   "cell_type": "code",
   "execution_count": 99,
   "id": "2ae35540",
   "metadata": {},
   "outputs": [],
   "source": [
    "import pandas as pd\n",
    "import numpy as np\n",
    "import tensorflow as tf\n",
    "import keras\n",
    "import PIL\n",
    "import cv2\n",
    "import matplotlib.pyplot as plt\n",
    "import seaborn as sns\n",
    "import os\n",
    "import random\n",
    "from tqdm import tqdm\n",
    "import tensorflow_addons as tfa\n",
    "import random\n",
    "from sklearn.preprocessing import MultiLabelBinarizer\n",
    "import firebase_admin\n",
    "from firebase_admin import credentials\n",
    "from firebase_admin import firestore\n",
    "import matplotlib.pyplot as plt\n",
    "import matplotlib.image as mpimg\n",
    "import urllib\n",
    "import urllib.request as ur\n",
    "import sys"
   ]
  },
  {
   "cell_type": "code",
   "execution_count": 100,
   "id": "166bb33e",
   "metadata": {},
   "outputs": [
    {
     "name": "stderr",
     "output_type": "stream",
     "text": [
      "/home/vh/.local/lib/python3.11/site-packages/google/cloud/firestore_v1/base_collection.py:290: UserWarning: Detected filter using positional arguments. Prefer using the 'filter' keyword argument instead.\n",
      "  return query.where(field_path, op_string, value)\n"
     ]
    },
    {
     "name": "stdout",
     "output_type": "stream",
     "text": [
      "['https://firebasestorage.googleapis.com/v0/b/plant-pests-detection.appspot.com/o/images%2Faedb1485640bcf78.jpgc8b8061b-420e-4c22-83ea-c23579cecb37?alt=media&token=c766603b-a2b9-429d-870a-cfd56a7fb89c', 'https://firebasestorage.googleapis.com/v0/b/plant-pests-detection.appspot.com/o/images%2Ff5bf9213cb900e62.jpg9d07a440-ef73-434b-b0db-feb47bae66e3?alt=media&token=5e803040-81d7-4e6c-ab49-fb444e0a1e11']\n"
     ]
    }
   ],
   "source": [
    "cred = credentials.Certificate('/home/vh/Documents/serviceAccount.json')\n",
    "\n",
    "# app = firebase_admin.initialize_app(cred)\n",
    "\n",
    "db = firestore.client()\n",
    "\n",
    "images_ref = db.collection(u'images')\n",
    "\n",
    "query = images_ref.where(u'status', u'==', u'')\n",
    "\n",
    "docs = query.stream()\n",
    "\n",
    "urls = []\n",
    "\n",
    "for doc in docs:\n",
    "    doc_dict = doc.to_dict()\n",
    "\n",
    "    imageUrl = doc_dict['imageUrl']\n",
    "    \n",
    "    urls.append(imageUrl)\n",
    "\n",
    "print(urls)"
   ]
  },
  {
   "cell_type": "code",
   "execution_count": 101,
   "id": "36d53950",
   "metadata": {},
   "outputs": [],
   "source": [
    "model = tf.keras.models.load_model('model/saved_model', compile=False)"
   ]
  },
  {
   "cell_type": "code",
   "execution_count": 102,
   "id": "91061143",
   "metadata": {},
   "outputs": [],
   "source": [
    "images = []\n",
    "for i in range(0,len(urls)):\n",
    "    image = \"image_\" + str(i) +\".jpg\"\n",
    "    images.append(image)\n",
    "    urllib.request.urlretrieve(urls[i], image)\n",
    "    with PIL.Image.open(image) as img:\n",
    "        img = img.resize((256,256))\n",
    "        img.save(f'./{predict_image}/{image}')"
   ]
  },
  {
   "cell_type": "code",
   "execution_count": 103,
   "id": "5ab60496",
   "metadata": {},
   "outputs": [
    {
     "name": "stdout",
     "output_type": "stream",
     "text": [
      "['image_0.jpg', 'image_1.jpg']\n",
      "         image\n",
      "0  image_0.jpg\n",
      "1  image_1.jpg\n"
     ]
    }
   ],
   "source": [
    "print(images)\n",
    "test = pd.DataFrame({'image':images})\n",
    "print(test)"
   ]
  },
  {
   "cell_type": "code",
   "execution_count": 104,
   "id": "08952234",
   "metadata": {},
   "outputs": [
    {
     "name": "stdout",
     "output_type": "stream",
     "text": [
      "Found 2 validated image filenames.\n",
      "<keras.preprocessing.image.DataFrameIterator object at 0x7fd608843bd0>\n"
     ]
    },
    {
     "name": "stderr",
     "output_type": "stream",
     "text": [
      "2023-05-10 18:23:03.519937: I tensorflow/core/common_runtime/executor.cc:1197] [/device:CPU:0] (DEBUG INFO) Executor start aborting (this does not indicate an error and you can ignore this message): INVALID_ARGUMENT: You must feed a value for placeholder tensor 'Placeholder/_0' with dtype int32\n",
      "\t [[{{node Placeholder/_0}}]]\n"
     ]
    },
    {
     "name": "stdout",
     "output_type": "stream",
     "text": [
      "1/1 [==============================] - 2s 2s/step\n",
      "[[7.3246844e-02 2.2475398e-01 2.3127902e-02 2.6427642e-02 8.6483115e-04\n",
      "  9.6409649e-01]\n",
      " [1.0849129e-02 4.8134673e-02 8.4769621e-02 3.4275169e-03 1.1059185e-03\n",
      "  8.7391227e-01]]\n",
      "[[5], [5]]\n"
     ]
    }
   ],
   "source": [
    "datagen = keras.preprocessing.image.ImageDataGenerator(rescale=1/255.0,\n",
    "                                                        preprocessing_function=None,\n",
    "                                                        data_format=None,\n",
    "                                                    )\n",
    "test_data = datagen.flow_from_dataframe(\n",
    "    test,\n",
    "    directory = '.',\n",
    "    x_col=\"image\",\n",
    "    y_col= None,\n",
    "    color_mode=\"rgb\",\n",
    "    target_size = (256,256),\n",
    "    classes=None,\n",
    "    class_mode=None,\n",
    "    batch_size=32,\n",
    "    shuffle=False,\n",
    "    seed=40,\n",
    ")\n",
    "\n",
    "print(test_data)\n",
    "\n",
    "preds = model.predict(test_data)\n",
    "print(preds)\n",
    "preds = preds.tolist()\n",
    "\n",
    "indices = []\n",
    "for pred in preds:\n",
    "    temp = []\n",
    "    for category in pred:\n",
    "        if category>=0.3:\n",
    "            temp.append(pred.index(category))\n",
    "    if temp!=[]:\n",
    "        indices.append(temp)\n",
    "    else:\n",
    "        temp.append(np.argmax(pred))\n",
    "        indices.append(temp)\n",
    "    \n",
    "print(indices)"
   ]
  },
  {
   "cell_type": "code",
   "execution_count": 105,
   "id": "a1cc5907",
   "metadata": {},
   "outputs": [
    {
     "name": "stdout",
     "output_type": "stream",
     "text": [
      "{0: 'complex', 1: 'frog_eye_leaf_spot', 2: 'healthy', 3: 'powdery_mildew', 4: 'rust', 5: 'scab'}\n",
      "['scab', 'scab']\n"
     ]
    }
   ],
   "source": [
    "labels = {'complex': 0, 'frog_eye_leaf_spot': 1, 'healthy': 2, 'powdery_mildew': 3, 'rust': 4, 'scab': 5}\n",
    "labels = dict((v,k) for k,v in labels.items())\n",
    "print(labels)\n",
    "\n",
    "testlabels = []\n",
    "\n",
    "\n",
    "for image in indices:\n",
    "    temp = []\n",
    "    for i in image:\n",
    "        temp.append(str(labels[i]))\n",
    "    testlabels.append(' '.join(temp))\n",
    "\n",
    "print(testlabels)"
   ]
  },
  {
   "cell_type": "code",
   "execution_count": null,
   "id": "451cf264",
   "metadata": {},
   "outputs": [],
   "source": []
  }
 ],
 "metadata": {
  "kernelspec": {
   "display_name": "Python 3 (ipykernel)",
   "language": "python",
   "name": "python3"
  },
  "language_info": {
   "codemirror_mode": {
    "name": "ipython",
    "version": 3
   },
   "file_extension": ".py",
   "mimetype": "text/x-python",
   "name": "python",
   "nbconvert_exporter": "python",
   "pygments_lexer": "ipython3",
   "version": "3.11.2"
  }
 },
 "nbformat": 4,
 "nbformat_minor": 5
}
