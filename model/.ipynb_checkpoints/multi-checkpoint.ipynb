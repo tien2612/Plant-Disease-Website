{
 "cells": [
  {
   "cell_type": "code",
   "execution_count": null,
   "id": "cdabdd4e",
   "metadata": {
    "ExecuteTime": {
     "end_time": "2023-05-04T07:26:06.769430947Z",
     "start_time": "2023-05-04T07:26:03.999082920Z"
    }
   },
   "outputs": [],
   "source": [
    "_TFLITE_MODEL_PATH = \"model.tflite\"\n",
    "\n",
    "converter = tf.lite.TFLiteConverter.from_saved_model('40_epoch')\n",
    "converter.optimizations = [tf.lite.Optimize.DEFAULT]\n",
    "tflite_model = converter.convert()\n",
    "\n",
    "with open(_TFLITE_MODEL_PATH, 'wb') as f:\n",
    "  f.write(tflite_model)"
   ]
  },
  {
   "cell_type": "code",
   "execution_count": 1,
   "id": "ebccb5e4",
   "metadata": {},
   "outputs": [
    {
     "name": "stdout",
     "output_type": "stream",
     "text": [
      "/home/vh/Documents/Plant-Disease-Website/model\r\n"
     ]
    }
   ],
   "source": []
  }
 ],
 "metadata": {
  "kernelspec": {
   "display_name": "Python 3 (ipykernel)",
   "language": "python",
   "name": "python3"
  },
  "language_info": {
   "codemirror_mode": {
    "name": "ipython",
    "version": 3
   },
   "file_extension": ".py",
   "mimetype": "text/x-python",
   "name": "python",
   "nbconvert_exporter": "python",
   "pygments_lexer": "ipython3",
   "version": "3.11.2"
  }
 },
 "nbformat": 4,
 "nbformat_minor": 5
}
