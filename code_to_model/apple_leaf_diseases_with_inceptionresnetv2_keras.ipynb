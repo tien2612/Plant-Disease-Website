{
  "cells": [
    {
      "cell_type": "markdown",
      "id": "1019867a",
      "metadata": {
        "colab_type": "text",
        "id": "view-in-github"
      },
      "source": [
        "<a href=\"https://colab.research.google.com/github/tien2612/Plant-Disease-Website/blob/master/model/apple_leaf_diseases_with_inceptionresnetv2_keras.ipynb\" target=\"_parent\"><img src=\"https://colab.research.google.com/assets/colab-badge.svg\" alt=\"Open In Colab\"/></a>"
      ]
    },
    {
      "cell_type": "markdown",
      "id": "HS-6ZOVURefJ",
      "metadata": {
        "id": "HS-6ZOVURefJ"
      },
      "source": [
        "TO RUN THIS NOTE BOOK\n",
        "1. Download 2 dataset and pretrained model in Datasource from [Kaggle](https://www.kaggle.com/code/arnabs007/apple-leaf-diseases-with-inceptionresnetv2-keras/input)\n",
        "\n",
        "2. Extract then change the 3 folders name to:\n",
        "  plant-pathology-2021-fgvc8\n",
        "  keras-pretrained-model\n",
        "  resized_plant2021\n",
        "\n",
        "3. Then put them in a folder name X\n",
        "\n",
        "4. Change **your_path variable** below to your path to inside folder X\n"
      ]
    },
    {
      "cell_type": "markdown",
      "id": "phantom-savannah",
      "metadata": {
        "id": "phantom-savannah",
        "papermill": {
          "duration": 0.013711,
          "end_time": "2021-04-18T18:35:05.432549",
          "exception": false,
          "start_time": "2021-04-18T18:35:05.418838",
          "status": "completed"
        },
        "tags": []
      },
      "source": [
        "# What is this about?\n",
        "Apples are one of the most important temperate fruit crops in the world. Foliar (leaf) diseases pose a major threat to the overall productivity and quality of apple orchards. The current process for disease diagnosis in apple orchards is based on manual scouting by humans, which is time-consuming and expensive. \n",
        "\n",
        "The main objective of the competition is to develop machine learning-based models to accurately classify a given leaf image from the test dataset to a particular disease category, and to identify an individual disease from multiple disease symptoms on a single leaf image. "
      ]
    },
    {
      "cell_type": "markdown",
      "id": "indie-grave",
      "metadata": {
        "id": "indie-grave",
        "papermill": {
          "duration": 0.012355,
          "end_time": "2021-04-18T18:35:05.457682",
          "exception": false,
          "start_time": "2021-04-18T18:35:05.445327",
          "status": "completed"
        },
        "tags": []
      },
      "source": [
        "# Import the necessary libraries"
      ]
    },
    {
      "cell_type": "code",
      "execution_count": null,
      "id": "JXeKf6-rHjUX",
      "metadata": {
        "id": "JXeKf6-rHjUX"
      },
      "outputs": [],
      "source": [
        "import pandas as pd\n",
        "import numpy as np\n",
        "import tensorflow as tf\n",
        "import keras\n",
        "import PIL\n",
        "import cv2\n",
        "import matplotlib.pyplot as plt\n",
        "import seaborn as sns\n",
        "import os\n",
        "import random\n",
        "from tqdm import tqdm\n",
        "import tensorflow_addons as tfa\n",
        "import random\n",
        "from sklearn.preprocessing import MultiLabelBinarizer\n",
        "\n",
        "pd.set_option(\"display.max_columns\", None)\n",
        "\n",
        "pd.set_option(\"display.max_columns\", None)"
      ]
    },
    {
      "cell_type": "markdown",
      "id": "l_qrroyUIVnE",
      "metadata": {
        "id": "l_qrroyUIVnE"
      },
      "source": [
        "**Your path into folder contain datasets and pretrained model**"
      ]
    },
    {
      "cell_type": "code",
      "execution_count": null,
      "id": "oOLu61B3ISKi",
      "metadata": {
        "id": "oOLu61B3ISKi"
      },
      "outputs": [],
      "source": [
        "your_path ='Documents/multidiscipline-project'"
      ]
    },
    {
      "cell_type": "markdown",
      "id": "GNDDlfOrHjUY",
      "metadata": {
        "collapsed": false,
        "id": "GNDDlfOrHjUY"
      },
      "source": [
        "Let's explore the data.\n",
        "How many images are in the datset, the labels and their frequencies."
      ]
    },
    {
      "cell_type": "code",
      "execution_count": null,
      "id": "subsequent-terrorist",
      "metadata": {
        "colab": {
          "base_uri": "https://localhost:8080/",
          "height": 701
        },
        "execution": {
          "iopub.execute_input": "2021-04-18T18:35:10.386993Z",
          "iopub.status.busy": "2021-04-18T18:35:10.386454Z",
          "iopub.status.idle": "2021-04-18T18:35:10.629012Z",
          "shell.execute_reply": "2021-04-18T18:35:10.629454Z"
        },
        "id": "subsequent-terrorist",
        "outputId": "c7ef8234-c066-424f-b17e-988424c0591b",
        "papermill": {
          "duration": 0.261893,
          "end_time": "2021-04-18T18:35:10.629610",
          "exception": false,
          "start_time": "2021-04-18T18:35:10.367717",
          "status": "completed"
        },
        "tags": []
      },
      "outputs": [],
      "source": [
        "train = pd.read_csv(your_path + '/plant-pathology-2021-fgvc8/train.csv')\n",
        "print(len(train))\n",
        "print(train.columns)\n",
        "# print(train['labels'].value_counts())\n",
        "print(train['labels'].value_counts().plot.bar())"
      ]
    },
    {
      "cell_type": "markdown",
      "id": "polar-absolute",
      "metadata": {
        "id": "polar-absolute",
        "papermill": {
          "duration": 0.016051,
          "end_time": "2021-04-18T18:35:10.660039",
          "exception": false,
          "start_time": "2021-04-18T18:35:10.643988",
          "status": "completed"
        },
        "tags": []
      },
      "source": [
        "# Wait\n",
        "Notice something. Unlike the previous year's competition [Plant Pathology 2020 - FGVC7](https://www.kaggle.com/c/plant-pathology-2020-fgvc7) one image can belong to more than one disease. Notice how in case of multiple diseases the diseases are seperated by an space. So there are not 12 labels, its actually just 6 labels.\n",
        "5 dieseases: \n",
        "\n",
        "1. rust\n",
        "2. scab \n",
        "3. complex \n",
        "4. frog eye leaf spot\n",
        "5. powdery mildew \n",
        "\n",
        "and another label is \n",
        "\n",
        "6. healthy (healthy leaves) \n",
        "\n",
        "Now the most important thing is, as one image can have multiple diseases, that means this problem is **Multi label classification** problem. Many get confused betweeen multilabel and multiclass classification. if you are new to multilabel classification I would suggest going over this [An introduction to MultiLabel classification](https://www.geeksforgeeks.org/an-introduction-to-multilabel-classification/) . \n",
        "\n",
        "So now we gotta process the labels. And then lets find out the actual frequencies of the labels. \n"
      ]
    },
    {
      "cell_type": "code",
      "execution_count": null,
      "id": "champion-score",
      "metadata": {
        "colab": {
          "base_uri": "https://localhost:8080/",
          "height": 424
        },
        "execution": {
          "iopub.execute_input": "2021-04-18T18:35:10.706963Z",
          "iopub.status.busy": "2021-04-18T18:35:10.706446Z",
          "iopub.status.idle": "2021-04-18T18:35:10.716005Z",
          "shell.execute_reply": "2021-04-18T18:35:10.716373Z"
        },
        "id": "champion-score",
        "outputId": "de11de3c-fc60-43c9-c246-a029f4618b35",
        "papermill": {
          "duration": 0.042521,
          "end_time": "2021-04-18T18:35:10.716524",
          "exception": false,
          "start_time": "2021-04-18T18:35:10.674003",
          "status": "completed"
        },
        "tags": []
      },
      "outputs": [],
      "source": [
        "train['labels'] = train['labels'].apply(lambda string: string.split(' '))\n",
        "train"
      ]
    },
    {
      "cell_type": "markdown",
      "id": "ideal-thesaurus",
      "metadata": {
        "id": "ideal-thesaurus",
        "papermill": {
          "duration": 0.014511,
          "end_time": "2021-04-18T18:35:10.745546",
          "exception": false,
          "start_time": "2021-04-18T18:35:10.731035",
          "status": "completed"
        },
        "tags": []
      },
      "source": [
        "First I convert the labels representation into **one hot encoded format** using MultilabelBinarizer from sklearn. Now we can see and plot the frequencies of each label. "
      ]
    },
    {
      "cell_type": "code",
      "execution_count": null,
      "id": "downtown-laundry",
      "metadata": {
        "colab": {
          "base_uri": "https://localhost:8080/",
          "height": 493
        },
        "execution": {
          "iopub.execute_input": "2021-04-18T18:35:10.799359Z",
          "iopub.status.busy": "2021-04-18T18:35:10.792293Z",
          "iopub.status.idle": "2021-04-18T18:35:10.952458Z",
          "shell.execute_reply": "2021-04-18T18:35:10.952005Z"
        },
        "id": "downtown-laundry",
        "outputId": "9caf3838-e564-4684-c57a-c3f931dc9990",
        "papermill": {
          "duration": 0.192586,
          "end_time": "2021-04-18T18:35:10.952576",
          "exception": false,
          "start_time": "2021-04-18T18:35:10.759990",
          "status": "completed"
        },
        "tags": []
      },
      "outputs": [],
      "source": [
        "s = list(train['labels'])\n",
        "mlb = MultiLabelBinarizer()\n",
        "trainx = pd.DataFrame(mlb.fit_transform(s), columns=mlb.classes_, index=train.index)\n",
        "print(trainx.columns)\n",
        "print(trainx.sum())\n",
        "\n",
        "labels = list(trainx.sum().keys())\n",
        "print(labels)\n",
        "label_counts = trainx.sum().values.tolist()\n",
        "\n",
        "fig, ax = plt.subplots(1,1, figsize=(20,6))\n",
        "\n",
        "sns.barplot(x= labels, y= label_counts, ax=ax)"
      ]
    },
    {
      "cell_type": "markdown",
      "id": "english-hardware",
      "metadata": {
        "id": "english-hardware",
        "papermill": {
          "duration": 0.015953,
          "end_time": "2021-04-18T18:35:10.984674",
          "exception": false,
          "start_time": "2021-04-18T18:35:10.968721",
          "status": "completed"
        },
        "tags": []
      },
      "source": [
        "# Let's view some of the images"
      ]
    },
    {
      "cell_type": "code",
      "execution_count": null,
      "id": "heated-glasgow",
      "metadata": {
        "colab": {
          "base_uri": "https://localhost:8080/",
          "height": 514
        },
        "execution": {
          "iopub.execute_input": "2021-04-18T18:35:11.022867Z",
          "iopub.status.busy": "2021-04-18T18:35:11.022351Z",
          "iopub.status.idle": "2021-04-18T18:35:24.498726Z",
          "shell.execute_reply": "2021-04-18T18:35:24.499146Z"
        },
        "id": "heated-glasgow",
        "outputId": "3888b413-3ac7-4ee6-8fe3-5d0c52f35d0d",
        "papermill": {
          "duration": 13.498793,
          "end_time": "2021-04-18T18:35:24.499297",
          "exception": false,
          "start_time": "2021-04-18T18:35:11.000504",
          "status": "completed"
        },
        "tags": []
      },
      "outputs": [],
      "source": [
        "fig1 = plt.figure(figsize=(26,10))\n",
        "\n",
        "for i in range(1, 13):\n",
        "    \n",
        "    rand =  random.randrange(1, 18000)\n",
        "    sample = os.path.join(your_path + '/plant-pathology-2021-fgvc8/train_images/', train['image'][rand])\n",
        "    \n",
        "    img = PIL.Image.open(sample)\n",
        "    \n",
        "    ax = fig1.add_subplot(4,3,i)\n",
        "    ax.imshow(img)\n",
        "    \n",
        "    title = f\"{train['labels'][rand]}{img.size}\"\n",
        "    plt.title(title)\n",
        "    \n",
        "    fig1.tight_layout()\n"
      ]
    },
    {
      "cell_type": "markdown",
      "id": "wicked-behavior",
      "metadata": {
        "id": "wicked-behavior",
        "papermill": {
          "duration": 0.037645,
          "end_time": "2021-04-18T18:35:24.574167",
          "exception": false,
          "start_time": "2021-04-18T18:35:24.536522",
          "status": "completed"
        },
        "tags": []
      },
      "source": [
        "# Imaze Size & Processing\n",
        "from the titles we can see some random image sizes - (4000, 2672). Larger images are harder to process hence takes much longer to train the CNN. Downsampling all these 18632 images is also a time consuming task. This is I am going to use the resized imaged for this dataset [resized-plant2021](https://www.kaggle.com/ankursingh12/resized-plant2021) by Ankur Singh. He has already downsampled the images into size of 256, 384, 512 & 640px.\n",
        "\n",
        "There are 18632 images in the training set. Even after using the downsampled images we cant fit all of the images into memory at once. So I have used the flow_from_dataframe method from keras. This method reads images in batch size from the storage without loading all the images at once and saving us from **GPU Out of Memory (OOM)** issue. "
      ]
    },
    {
      "cell_type": "code",
      "execution_count": null,
      "id": "varied-bacon",
      "metadata": {
        "colab": {
          "base_uri": "https://localhost:8080/"
        },
        "execution": {
          "iopub.execute_input": "2021-04-18T18:35:24.689899Z",
          "iopub.status.busy": "2021-04-18T18:35:24.684735Z",
          "iopub.status.idle": "2021-04-18T18:35:56.861157Z",
          "shell.execute_reply": "2021-04-18T18:35:56.861800Z"
        },
        "id": "varied-bacon",
        "outputId": "fda91d82-390b-4de3-db39-9d6fef28943f",
        "papermill": {
          "duration": 32.247973,
          "end_time": "2021-04-18T18:35:56.862002",
          "exception": false,
          "start_time": "2021-04-18T18:35:24.614029",
          "status": "completed"
        },
        "tags": []
      },
      "outputs": [],
      "source": [
        "%%time\n",
        "datagen = keras.preprocessing.image.ImageDataGenerator(rescale=1/255.0,\n",
        "                                                        preprocessing_function=None,\n",
        "                                                        data_format=None,\n",
        "                                                    )\n",
        "\n",
        "# dir = '/home/vh/Documents/multidiscipline-project/resized_plant2021/img_sz_512'\n",
        "\n",
        "dir = your_path + '/resized_plant2021/img_sz_512'\n",
        "\n",
        "train_data = datagen.flow_from_dataframe(\n",
        "    train,\n",
        "    directory= dir,\n",
        "    x_col=\"image\",\n",
        "    y_col= 'labels',\n",
        "    color_mode=\"rgb\",\n",
        "    target_size = (256,256),\n",
        "    class_mode=\"categorical\",\n",
        "    batch_size=32,\n",
        "    shuffle=False,\n",
        "    seed=40,\n",
        ")\n",
        "# print(directory)"
      ]
    },
    {
      "cell_type": "markdown",
      "id": "attractive-bandwidth",
      "metadata": {
        "id": "attractive-bandwidth",
        "papermill": {
          "duration": 0.037109,
          "end_time": "2021-04-18T18:35:56.936824",
          "exception": false,
          "start_time": "2021-04-18T18:35:56.899715",
          "status": "completed"
        },
        "tags": []
      },
      "source": [
        "# Transfer Learning\n",
        "Transfer learning is the process of using frozen weights from a large pre-trained model for a downstream task which is in our case classifying leaf diseases. As we can't use internet in this notebook, I will use the dataset of keras's pretrained models containing the weights of 'imagenet'. The output/top layer of a pretrained layer is a dense layer containing number of nodes = number of output classes. All the models here are pre-trained on 'imagenet' hence they have a output/top layer of 1000 nodes. We will have to replace the output/top layer with our own dense layer with 6 nodes (for 6 classes). \n",
        "\n",
        "I am going to be using **Inception ResNet v2**.\n"
      ]
    },
    {
      "cell_type": "code",
      "execution_count": null,
      "id": "emotional-translation",
      "metadata": {
        "colab": {
          "base_uri": "https://localhost:8080/"
        },
        "execution": {
          "iopub.execute_input": "2021-04-18T18:35:57.015824Z",
          "iopub.status.busy": "2021-04-18T18:35:57.015267Z",
          "iopub.status.idle": "2021-04-18T18:36:06.995572Z",
          "shell.execute_reply": "2021-04-18T18:36:06.996199Z"
        },
        "id": "emotional-translation",
        "outputId": "3736e8b4-c3db-4e65-88ec-106d41b3221b",
        "papermill": {
          "duration": 10.022709,
          "end_time": "2021-04-18T18:36:06.996411",
          "exception": false,
          "start_time": "2021-04-18T18:35:56.973702",
          "status": "completed"
        },
        "tags": []
      },
      "outputs": [],
      "source": [
        "seed = 1200\n",
        "tf.random.set_seed(seed)\n",
        "\n",
        "weights_path = your_path + '/keras-pretrained-model/inception_resnet_v2_weights_tf_dim_ordering_tf_kernels_notop.h5'\n",
        "\n",
        "model = keras.applications.InceptionResNetV2(weights=weights_path, include_top=False, input_shape=(256, 256, 3))\n",
        "\n",
        "print(model.input)\n",
        "print(model.output)"
      ]
    },
    {
      "cell_type": "markdown",
      "id": "touched-stage",
      "metadata": {
        "id": "touched-stage",
        "papermill": {
          "duration": 0.062058,
          "end_time": "2021-04-18T18:36:07.122193",
          "exception": false,
          "start_time": "2021-04-18T18:36:07.060135",
          "status": "completed"
        },
        "tags": []
      },
      "source": [
        "# Activation, Losses & Metrices\n",
        "\n",
        "As this is a multilabel classification problem, we can't use softmax here, hence the sigmoid activation.\n",
        "\n",
        "Binary crossentropy is used instead of categorical crossentropy. We use categorical cross-entropy in multi-class problems, but for multi-label problems, we use binary cross-entropy. Think of it this way, an image may have multiple labels, and we need the probabilities that each of these labels corresponds to the given image - this can be considered as n independent binary classifiers for the n labels.\n",
        "\n",
        "For evaluation I have used F1 accuracy metrics instead of binary accuracy. F1 and its variants are better for evaluation when it comes to multiclass and multilabel problems. if you want to know F1 score works for Multilabel classification go through this https://medium.com/synthesio-engineering/precision-accuracy-and-f1-score-for-multi-label-classification-34ac6bdfb404https://medium.com/synthesio-engineering/precision-accuracy-and-f1-score-for-multi-label-classification-34ac6bdfb404. "
      ]
    },
    {
      "cell_type": "code",
      "execution_count": null,
      "id": "valuable-wrestling",
      "metadata": {
        "colab": {
          "base_uri": "https://localhost:8080/"
        },
        "execution": {
          "iopub.execute_input": "2021-04-18T18:36:07.254644Z",
          "iopub.status.busy": "2021-04-18T18:36:07.253837Z",
          "iopub.status.idle": "2021-04-18T18:36:08.692294Z",
          "shell.execute_reply": "2021-04-18T18:36:08.692920Z"
        },
        "id": "valuable-wrestling",
        "outputId": "07976e5c-25ac-4090-8aaa-bf515d6410d7",
        "papermill": {
          "duration": 1.508952,
          "end_time": "2021-04-18T18:36:08.693129",
          "exception": false,
          "start_time": "2021-04-18T18:36:07.184177",
          "status": "completed"
        },
        "tags": []
      },
      "outputs": [],
      "source": [
        "new_model = tf.keras.Sequential([\n",
        "    model,\n",
        "    keras.layers.GlobalAveragePooling2D(),\n",
        "    keras.layers.Dense(6, \n",
        "        kernel_initializer=keras.initializers.RandomUniform(seed=seed),\n",
        "        bias_initializer=keras.initializers.Zeros(), name='dense_top', activation='sigmoid')\n",
        "])\n",
        "\n",
        "# Freezing the weights\n",
        "for layer in new_model.layers[:-1]:\n",
        "    layer.trainable=False\n",
        "    \n",
        "new_model.summary()"
      ]
    },
    {
      "cell_type": "code",
      "execution_count": null,
      "id": "institutional-archives",
      "metadata": {
        "colab": {
          "base_uri": "https://localhost:8080/"
        },
        "execution": {
          "iopub.execute_input": "2021-04-18T18:36:08.781900Z",
          "iopub.status.busy": "2021-04-18T18:36:08.781189Z",
          "iopub.status.idle": "2021-04-18T19:44:58.888740Z",
          "shell.execute_reply": "2021-04-18T19:44:58.888269Z"
        },
        "id": "institutional-archives",
        "outputId": "3b1fdf8b-b2af-4de5-c190-d2dd0d309b13",
        "papermill": {
          "duration": 4130.155521,
          "end_time": "2021-04-18T19:44:58.888873",
          "exception": false,
          "start_time": "2021-04-18T18:36:08.733352",
          "status": "completed"
        },
        "tags": []
      },
      "outputs": [],
      "source": [
        "f1 = tfa.metrics.F1Score(num_classes=6, average='macro')\n",
        "\n",
        "callbacks = keras.callbacks.EarlyStopping(monitor=f1, patience=3, mode='max', restore_best_weights=True)\n",
        "\n",
        "\n",
        "new_model.compile(loss=tf.keras.losses.BinaryCrossentropy(), optimizer=keras.optimizers.Adam(learning_rate=1e-4), \n",
        "              metrics= [f1])\n",
        "\n",
        "new_model.fit(train_data, epochs=40, callbacks=callbacks)"
      ]
    },
    {
      "cell_type": "markdown",
      "id": "greater-librarian",
      "metadata": {
        "id": "greater-librarian",
        "papermill": {
          "duration": 6.046441,
          "end_time": "2021-04-18T19:45:11.248921",
          "exception": false,
          "start_time": "2021-04-18T19:45:05.202480",
          "status": "completed"
        },
        "tags": []
      },
      "source": [
        "# Submission\n",
        "\n",
        "For submission I will resize the test images and then predict the labels for them."
      ]
    },
    {
      "cell_type": "code",
      "execution_count": null,
      "id": "diverse-ceiling",
      "metadata": {
        "execution": {
          "iopub.execute_input": "2021-04-18T19:45:24.184523Z",
          "iopub.status.busy": "2021-04-18T19:45:24.183897Z",
          "iopub.status.idle": "2021-04-18T19:45:24.975833Z",
          "shell.execute_reply": "2021-04-18T19:45:24.976644Z"
        },
        "id": "diverse-ceiling",
        "papermill": {
          "duration": 7.424141,
          "end_time": "2021-04-18T19:45:24.976919",
          "exception": false,
          "start_time": "2021-04-18T19:45:17.552778",
          "status": "completed"
        },
        "tags": []
      },
      "outputs": [],
      "source": [
        "test = pd.read_csv(your_path + '/plant-pathology-2021-fgvc8/sample_submission.csv')\n",
        "for img_name in tqdm(test['image']):\n",
        "    path = your_path + '/plant-pathology-2021-fgvc8/test_images/'+str(img_name)\n",
        "    with PIL.Image.open(path) as img:\n",
        "        img = img.resize((256,256))\n",
        "        img.save(f'./{img_name}')"
      ]
    },
    {
      "cell_type": "code",
      "execution_count": null,
      "id": "tender-steal",
      "metadata": {
        "execution": {
          "iopub.execute_input": "2021-04-18T19:45:37.575392Z",
          "iopub.status.busy": "2021-04-18T19:45:37.574390Z",
          "iopub.status.idle": "2021-04-18T19:45:40.679554Z",
          "shell.execute_reply": "2021-04-18T19:45:40.678783Z"
        },
        "id": "tender-steal",
        "papermill": {
          "duration": 9.380074,
          "end_time": "2021-04-18T19:45:40.679690",
          "exception": false,
          "start_time": "2021-04-18T19:45:31.299616",
          "status": "completed"
        },
        "tags": []
      },
      "outputs": [],
      "source": [
        "test_data = datagen.flow_from_dataframe(\n",
        "    test,\n",
        "    directory = './',\n",
        "    x_col=\"image\",\n",
        "    y_col= None,\n",
        "    color_mode=\"rgb\",\n",
        "    target_size = (256,256),\n",
        "    classes=None,\n",
        "    class_mode=None,\n",
        "    batch_size=32,\n",
        "    shuffle=False,\n",
        "    seed=40,\n",
        ")\n",
        "\n",
        "preds = new_model.predict(test_data)\n",
        "print(preds)\n",
        "preds = preds.tolist()\n",
        "\n",
        "indices = []\n",
        "for pred in preds:\n",
        "    temp = []\n",
        "    for category in pred:\n",
        "        if category>=0.3:\n",
        "            temp.append(pred.index(category))\n",
        "    if temp!=[]:\n",
        "        indices.append(temp)\n",
        "    else:\n",
        "        temp.append(np.argmax(pred))\n",
        "        indices.append(temp)\n",
        "    \n",
        "print(indices)"
      ]
    },
    {
      "cell_type": "code",
      "execution_count": null,
      "id": "liberal-video",
      "metadata": {
        "execution": {
          "iopub.execute_input": "2021-04-18T19:45:53.164096Z",
          "iopub.status.busy": "2021-04-18T19:45:53.163502Z",
          "iopub.status.idle": "2021-04-18T19:45:53.166695Z",
          "shell.execute_reply": "2021-04-18T19:45:53.167277Z"
        },
        "id": "liberal-video",
        "papermill": {
          "duration": 6.415933,
          "end_time": "2021-04-18T19:45:53.167467",
          "exception": false,
          "start_time": "2021-04-18T19:45:46.751534",
          "status": "completed"
        },
        "tags": []
      },
      "outputs": [],
      "source": [
        "labels = (train_data.class_indices)\n",
        "labels = dict((v,k) for k,v in labels.items())\n",
        "print(labels)\n",
        "\n",
        "testlabels = []\n",
        "\n",
        "\n",
        "for image in indices:\n",
        "    temp = []\n",
        "    for i in image:\n",
        "        temp.append(str(labels[i]))\n",
        "    testlabels.append(' '.join(temp))\n",
        "\n",
        "print(testlabels)"
      ]
    },
    {
      "cell_type": "markdown",
      "id": "signed-archives",
      "metadata": {
        "id": "signed-archives",
        "papermill": {
          "duration": 6.126523,
          "end_time": "2021-04-18T19:46:05.971340",
          "exception": false,
          "start_time": "2021-04-18T19:45:59.844817",
          "status": "completed"
        },
        "tags": []
      },
      "source": [
        "Remove the resized images from output before submission. if there are any other files present except 'submission.csv' it will throw an error when submitting."
      ]
    },
    {
      "cell_type": "code",
      "execution_count": null,
      "id": "regular-rubber",
      "metadata": {
        "execution": {
          "iopub.execute_input": "2021-04-18T19:46:18.267041Z",
          "iopub.status.busy": "2021-04-18T19:46:18.266330Z",
          "iopub.status.idle": "2021-04-18T19:46:18.269464Z",
          "shell.execute_reply": "2021-04-18T19:46:18.269026Z"
        },
        "id": "regular-rubber",
        "papermill": {
          "duration": 5.991419,
          "end_time": "2021-04-18T19:46:18.269588",
          "exception": false,
          "start_time": "2021-04-18T19:46:12.278169",
          "status": "completed"
        },
        "tags": []
      },
      "outputs": [],
      "source": [
        "delfiles = tf.io.gfile.glob('./*.jpg')\n",
        "\n",
        "for file in delfiles:\n",
        "    os.remove(file)"
      ]
    },
    {
      "cell_type": "code",
      "execution_count": null,
      "id": "urban-pilot",
      "metadata": {
        "execution": {
          "iopub.execute_input": "2021-04-18T19:46:31.257400Z",
          "iopub.status.busy": "2021-04-18T19:46:31.256843Z",
          "iopub.status.idle": "2021-04-18T19:46:31.722840Z",
          "shell.execute_reply": "2021-04-18T19:46:31.723220Z"
        },
        "id": "urban-pilot",
        "papermill": {
          "duration": 7.175361,
          "end_time": "2021-04-18T19:46:31.723368",
          "exception": false,
          "start_time": "2021-04-18T19:46:24.548007",
          "status": "completed"
        },
        "tags": []
      },
      "outputs": [],
      "source": [
        "sub = pd.read_csv(your_path + '/plant-pathology-2021-fgvc8/sample_submission.csv')\n",
        "sub['labels'] = testlabels\n",
        "sub.to_csv('submission.csv', index=False)\n",
        "sub\n"
      ]
    }
  ],
  "metadata": {
    "colab": {
      "include_colab_link": true,
      "provenance": [],
      "toc_visible": true
    },
    "kernelspec": {
      "display_name": "Python 3.11.0 64-bit",
      "language": "python",
      "name": "python3"
    },
    "language_info": {
      "codemirror_mode": {
        "name": "ipython",
        "version": 3
      },
      "file_extension": ".py",
      "mimetype": "text/x-python",
      "name": "python",
      "nbconvert_exporter": "python",
      "pygments_lexer": "ipython3",
      "version": "3.8.10"
    },
    "papermill": {
      "default_parameters": {},
      "duration": 4300.273392,
      "end_time": "2021-04-18T19:46:41.006988",
      "environment_variables": {},
      "exception": null,
      "input_path": "__notebook__.ipynb",
      "output_path": "__notebook__.ipynb",
      "parameters": {},
      "start_time": "2021-04-18T18:35:00.733596",
      "version": "2.3.2"
    },
    "vscode": {
      "interpreter": {
        "hash": "c261aea317cc0286b3b3261fbba9abdec21eaa57589985bb7a274bf54d6cc0a7"
      }
    }
  },
  "nbformat": 4,
  "nbformat_minor": 5
}
